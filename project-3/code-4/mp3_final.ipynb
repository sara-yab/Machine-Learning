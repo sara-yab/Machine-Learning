{
  "nbformat": 4,
  "nbformat_minor": 0,
  "metadata": {
    "colab": {
      "provenance": []
    },
    "kernelspec": {
      "name": "python3",
      "display_name": "Python 3"
    },
    "language_info": {
      "name": "python"
    },
    "accelerator": "GPU",
    "gpuClass": "standard",
    "widgets": {
      "application/vnd.jupyter.widget-state+json": {
        "d6ea5cb87c584affb765a6b6f58ef8e0": {
          "model_module": "@jupyter-widgets/controls",
          "model_name": "HBoxModel",
          "model_module_version": "1.5.0",
          "state": {
            "_dom_classes": [],
            "_model_module": "@jupyter-widgets/controls",
            "_model_module_version": "1.5.0",
            "_model_name": "HBoxModel",
            "_view_count": null,
            "_view_module": "@jupyter-widgets/controls",
            "_view_module_version": "1.5.0",
            "_view_name": "HBoxView",
            "box_style": "",
            "children": [
              "IPY_MODEL_509262379c76445cad55c3a6438ad0d6",
              "IPY_MODEL_d8f0ec85e3224e03aa0c71da9e5f2c24",
              "IPY_MODEL_c3540e20c4834387a6e5b66fe8c21996"
            ],
            "layout": "IPY_MODEL_d75bdf0e17f141749a0212670aea3e08"
          }
        },
        "509262379c76445cad55c3a6438ad0d6": {
          "model_module": "@jupyter-widgets/controls",
          "model_name": "HTMLModel",
          "model_module_version": "1.5.0",
          "state": {
            "_dom_classes": [],
            "_model_module": "@jupyter-widgets/controls",
            "_model_module_version": "1.5.0",
            "_model_name": "HTMLModel",
            "_view_count": null,
            "_view_module": "@jupyter-widgets/controls",
            "_view_module_version": "1.5.0",
            "_view_name": "HTMLView",
            "description": "",
            "description_tooltip": null,
            "layout": "IPY_MODEL_885795bfa0294779aa2aebd3df1f4399",
            "placeholder": "​",
            "style": "IPY_MODEL_fad3062dc7d04262b6bf0992d92bb40f",
            "value": "Validation Accuracy : 93.542: 100%"
          }
        },
        "d8f0ec85e3224e03aa0c71da9e5f2c24": {
          "model_module": "@jupyter-widgets/controls",
          "model_name": "FloatProgressModel",
          "model_module_version": "1.5.0",
          "state": {
            "_dom_classes": [],
            "_model_module": "@jupyter-widgets/controls",
            "_model_module_version": "1.5.0",
            "_model_name": "FloatProgressModel",
            "_view_count": null,
            "_view_module": "@jupyter-widgets/controls",
            "_view_module_version": "1.5.0",
            "_view_name": "ProgressView",
            "bar_style": "success",
            "description": "",
            "description_tooltip": null,
            "layout": "IPY_MODEL_2357b79651b446619cda565012741f90",
            "max": 5,
            "min": 0,
            "orientation": "horizontal",
            "style": "IPY_MODEL_8f2c833c8673471485191b87565b7c26",
            "value": 5
          }
        },
        "c3540e20c4834387a6e5b66fe8c21996": {
          "model_module": "@jupyter-widgets/controls",
          "model_name": "HTMLModel",
          "model_module_version": "1.5.0",
          "state": {
            "_dom_classes": [],
            "_model_module": "@jupyter-widgets/controls",
            "_model_module_version": "1.5.0",
            "_model_name": "HTMLModel",
            "_view_count": null,
            "_view_module": "@jupyter-widgets/controls",
            "_view_module_version": "1.5.0",
            "_view_name": "HTMLView",
            "description": "",
            "description_tooltip": null,
            "layout": "IPY_MODEL_1c7e52f99d2e4b6f89a88a175fc8cbae",
            "placeholder": "​",
            "style": "IPY_MODEL_7f898c1631304a03a9ac94f5428087e6",
            "value": " 5/5 [01:52&lt;00:00, 21.30s/it]"
          }
        },
        "d75bdf0e17f141749a0212670aea3e08": {
          "model_module": "@jupyter-widgets/base",
          "model_name": "LayoutModel",
          "model_module_version": "1.2.0",
          "state": {
            "_model_module": "@jupyter-widgets/base",
            "_model_module_version": "1.2.0",
            "_model_name": "LayoutModel",
            "_view_count": null,
            "_view_module": "@jupyter-widgets/base",
            "_view_module_version": "1.2.0",
            "_view_name": "LayoutView",
            "align_content": null,
            "align_items": null,
            "align_self": null,
            "border": null,
            "bottom": null,
            "display": null,
            "flex": null,
            "flex_flow": null,
            "grid_area": null,
            "grid_auto_columns": null,
            "grid_auto_flow": null,
            "grid_auto_rows": null,
            "grid_column": null,
            "grid_gap": null,
            "grid_row": null,
            "grid_template_areas": null,
            "grid_template_columns": null,
            "grid_template_rows": null,
            "height": null,
            "justify_content": null,
            "justify_items": null,
            "left": null,
            "margin": null,
            "max_height": null,
            "max_width": null,
            "min_height": null,
            "min_width": null,
            "object_fit": null,
            "object_position": null,
            "order": null,
            "overflow": null,
            "overflow_x": null,
            "overflow_y": null,
            "padding": null,
            "right": null,
            "top": null,
            "visibility": null,
            "width": null
          }
        },
        "885795bfa0294779aa2aebd3df1f4399": {
          "model_module": "@jupyter-widgets/base",
          "model_name": "LayoutModel",
          "model_module_version": "1.2.0",
          "state": {
            "_model_module": "@jupyter-widgets/base",
            "_model_module_version": "1.2.0",
            "_model_name": "LayoutModel",
            "_view_count": null,
            "_view_module": "@jupyter-widgets/base",
            "_view_module_version": "1.2.0",
            "_view_name": "LayoutView",
            "align_content": null,
            "align_items": null,
            "align_self": null,
            "border": null,
            "bottom": null,
            "display": null,
            "flex": null,
            "flex_flow": null,
            "grid_area": null,
            "grid_auto_columns": null,
            "grid_auto_flow": null,
            "grid_auto_rows": null,
            "grid_column": null,
            "grid_gap": null,
            "grid_row": null,
            "grid_template_areas": null,
            "grid_template_columns": null,
            "grid_template_rows": null,
            "height": null,
            "justify_content": null,
            "justify_items": null,
            "left": null,
            "margin": null,
            "max_height": null,
            "max_width": null,
            "min_height": null,
            "min_width": null,
            "object_fit": null,
            "object_position": null,
            "order": null,
            "overflow": null,
            "overflow_x": null,
            "overflow_y": null,
            "padding": null,
            "right": null,
            "top": null,
            "visibility": null,
            "width": null
          }
        },
        "fad3062dc7d04262b6bf0992d92bb40f": {
          "model_module": "@jupyter-widgets/controls",
          "model_name": "DescriptionStyleModel",
          "model_module_version": "1.5.0",
          "state": {
            "_model_module": "@jupyter-widgets/controls",
            "_model_module_version": "1.5.0",
            "_model_name": "DescriptionStyleModel",
            "_view_count": null,
            "_view_module": "@jupyter-widgets/base",
            "_view_module_version": "1.2.0",
            "_view_name": "StyleView",
            "description_width": ""
          }
        },
        "2357b79651b446619cda565012741f90": {
          "model_module": "@jupyter-widgets/base",
          "model_name": "LayoutModel",
          "model_module_version": "1.2.0",
          "state": {
            "_model_module": "@jupyter-widgets/base",
            "_model_module_version": "1.2.0",
            "_model_name": "LayoutModel",
            "_view_count": null,
            "_view_module": "@jupyter-widgets/base",
            "_view_module_version": "1.2.0",
            "_view_name": "LayoutView",
            "align_content": null,
            "align_items": null,
            "align_self": null,
            "border": null,
            "bottom": null,
            "display": null,
            "flex": null,
            "flex_flow": null,
            "grid_area": null,
            "grid_auto_columns": null,
            "grid_auto_flow": null,
            "grid_auto_rows": null,
            "grid_column": null,
            "grid_gap": null,
            "grid_row": null,
            "grid_template_areas": null,
            "grid_template_columns": null,
            "grid_template_rows": null,
            "height": null,
            "justify_content": null,
            "justify_items": null,
            "left": null,
            "margin": null,
            "max_height": null,
            "max_width": null,
            "min_height": null,
            "min_width": null,
            "object_fit": null,
            "object_position": null,
            "order": null,
            "overflow": null,
            "overflow_x": null,
            "overflow_y": null,
            "padding": null,
            "right": null,
            "top": null,
            "visibility": null,
            "width": null
          }
        },
        "8f2c833c8673471485191b87565b7c26": {
          "model_module": "@jupyter-widgets/controls",
          "model_name": "ProgressStyleModel",
          "model_module_version": "1.5.0",
          "state": {
            "_model_module": "@jupyter-widgets/controls",
            "_model_module_version": "1.5.0",
            "_model_name": "ProgressStyleModel",
            "_view_count": null,
            "_view_module": "@jupyter-widgets/base",
            "_view_module_version": "1.2.0",
            "_view_name": "StyleView",
            "bar_color": null,
            "description_width": ""
          }
        },
        "1c7e52f99d2e4b6f89a88a175fc8cbae": {
          "model_module": "@jupyter-widgets/base",
          "model_name": "LayoutModel",
          "model_module_version": "1.2.0",
          "state": {
            "_model_module": "@jupyter-widgets/base",
            "_model_module_version": "1.2.0",
            "_model_name": "LayoutModel",
            "_view_count": null,
            "_view_module": "@jupyter-widgets/base",
            "_view_module_version": "1.2.0",
            "_view_name": "LayoutView",
            "align_content": null,
            "align_items": null,
            "align_self": null,
            "border": null,
            "bottom": null,
            "display": null,
            "flex": null,
            "flex_flow": null,
            "grid_area": null,
            "grid_auto_columns": null,
            "grid_auto_flow": null,
            "grid_auto_rows": null,
            "grid_column": null,
            "grid_gap": null,
            "grid_row": null,
            "grid_template_areas": null,
            "grid_template_columns": null,
            "grid_template_rows": null,
            "height": null,
            "justify_content": null,
            "justify_items": null,
            "left": null,
            "margin": null,
            "max_height": null,
            "max_width": null,
            "min_height": null,
            "min_width": null,
            "object_fit": null,
            "object_position": null,
            "order": null,
            "overflow": null,
            "overflow_x": null,
            "overflow_y": null,
            "padding": null,
            "right": null,
            "top": null,
            "visibility": null,
            "width": null
          }
        },
        "7f898c1631304a03a9ac94f5428087e6": {
          "model_module": "@jupyter-widgets/controls",
          "model_name": "DescriptionStyleModel",
          "model_module_version": "1.5.0",
          "state": {
            "_model_module": "@jupyter-widgets/controls",
            "_model_module_version": "1.5.0",
            "_model_name": "DescriptionStyleModel",
            "_view_count": null,
            "_view_module": "@jupyter-widgets/base",
            "_view_module_version": "1.2.0",
            "_view_name": "StyleView",
            "description_width": ""
          }
        }
      }
    }
  },
  "cells": [
    {
      "cell_type": "code",
      "execution_count": 1,
      "metadata": {
        "id": "wrkCEo0V1rRh"
      },
      "outputs": [],
      "source": [
        "import pickle\n",
        "import matplotlib.pyplot as plt\n",
        "import numpy as np\n",
        "from torchvision import transforms\n",
        "from torch.utils.data import Dataset\n",
        "from torch.utils.data import DataLoader\n",
        "from PIL import Image\n",
        "import torch\n",
        "\n",
        "from sklearn.model_selection import train_test_split\n",
        "from torchvision.datasets import KMNIST\n",
        "import matplotlib.pyplot as plt\n",
        "\n",
        "import time\n",
        "import pandas as pd\n",
        "from tqdm.notebook import tqdm_notebook\n",
        "import random\n",
        "\n",
        "import torch.nn as nn\n",
        "import torch.nn.functional as F\n",
        "import torch.optim as optim\n",
        "import cv2\n",
        "from skimage.util import img_as_ubyte\n",
        "from torchvision.models import VGG, vgg16"
      ]
    },
    {
      "cell_type": "code",
      "source": [
        "# Check if using GPU \n",
        "device = torch.device('cuda' if torch.cuda.is_available() else 'cpu')\n",
        "if torch.cuda.is_available():\n",
        "  print(f\"Nvidia Cuda/GPU is available!\")\n",
        "\n",
        "gpu_info = !nvidia-smi\n",
        "gpu_info = '\\n'.join(gpu_info)\n",
        "if gpu_info.find('failed') >= 0:\n",
        "  print('Select the Runtime > \"Change runtime type\" menu to enable a GPU accelerator, ')\n",
        "  print('and then re-execute this cell.')\n",
        "else:\n",
        "  print(gpu_info)"
      ],
      "metadata": {
        "colab": {
          "base_uri": "https://localhost:8080/"
        },
        "id": "GW2HsdydGAD_",
        "outputId": "62813d0d-b67a-4235-bae2-93092ec627ef"
      },
      "execution_count": 2,
      "outputs": [
        {
          "output_type": "stream",
          "name": "stdout",
          "text": [
            "Nvidia Cuda/GPU is available!\n",
            "Sun Apr 16 22:57:54 2023       \n",
            "+-----------------------------------------------------------------------------+\n",
            "| NVIDIA-SMI 525.85.12    Driver Version: 525.85.12    CUDA Version: 12.0     |\n",
            "|-------------------------------+----------------------+----------------------+\n",
            "| GPU  Name        Persistence-M| Bus-Id        Disp.A | Volatile Uncorr. ECC |\n",
            "| Fan  Temp  Perf  Pwr:Usage/Cap|         Memory-Usage | GPU-Util  Compute M. |\n",
            "|                               |                      |               MIG M. |\n",
            "|===============================+======================+======================|\n",
            "|   0  Tesla T4            Off  | 00000000:00:04.0 Off |                    0 |\n",
            "| N/A   67C    P8    11W /  70W |      3MiB / 15360MiB |      0%      Default |\n",
            "|                               |                      |                  N/A |\n",
            "+-------------------------------+----------------------+----------------------+\n",
            "                                                                               \n",
            "+-----------------------------------------------------------------------------+\n",
            "| Processes:                                                                  |\n",
            "|  GPU   GI   CI        PID   Type   Process name                  GPU Memory |\n",
            "|        ID   ID                                                   Usage      |\n",
            "|=============================================================================|\n",
            "|  No running processes found                                                 |\n",
            "+-----------------------------------------------------------------------------+\n"
          ]
        }
      ]
    },
    {
      "cell_type": "code",
      "source": [
        "from google.colab import drive\n",
        "drive.mount('/content/gdrive' )"
      ],
      "metadata": {
        "colab": {
          "base_uri": "https://localhost:8080/"
        },
        "id": "phrtAJQn14tg",
        "outputId": "d22af4cf-ca64-4c1d-f636-f0482ebd4595"
      },
      "execution_count": 3,
      "outputs": [
        {
          "output_type": "stream",
          "name": "stdout",
          "text": [
            "Mounted at /content/gdrive\n"
          ]
        }
      ]
    },
    {
      "cell_type": "code",
      "source": [
        "#Folder of the  drive is accessed\n",
        "%cd '/content/gdrive/MyDrive/ecse551-mp3'"
      ],
      "metadata": {
        "colab": {
          "base_uri": "https://localhost:8080/"
        },
        "id": "vsLAgEtt03-K",
        "outputId": "2bc5b2fe-9f0f-4120-f78e-efb33f923f3d"
      },
      "execution_count": 4,
      "outputs": [
        {
          "output_type": "stream",
          "name": "stdout",
          "text": [
            "/content/gdrive/MyDrive/ecse551-mp3\n"
          ]
        }
      ]
    },
    {
      "cell_type": "code",
      "source": [
        "# Read a pickle file and disply its samples\n",
        "# Note that image data are stored as unit8 so each element is an integer value between 0 and 255\n",
        "train_data  = pickle.load( open( './Train.pkl', 'rb' ), encoding='bytes').reshape(-1,28,28) \n",
        "train_targets   = np.genfromtxt('./Train_labels.csv', delimiter=',', skip_header=1)[:,1:]\n",
        "test_data  = pickle.load( open( './Test.pkl', 'rb' ), encoding='bytes')\n",
        "plt.imshow(train_data[0,:,:].squeeze(),cmap='gray')\n",
        "\n",
        "print('Training data shape:', train_data.shape)\n",
        "print('Training targets shape:', train_targets.shape)\n",
        "print('Test data shape:', test_data.shape)"
      ],
      "metadata": {
        "colab": {
          "base_uri": "https://localhost:8080/",
          "height": 483
        },
        "id": "gS-3zAIg2Brp",
        "outputId": "845d9ef3-9132-4056-8b6e-31a85bb1b61d"
      },
      "execution_count": 5,
      "outputs": [
        {
          "output_type": "stream",
          "name": "stdout",
          "text": [
            "Training data shape: (60000, 28, 28)\n",
            "Training targets shape: (60000, 1)\n",
            "Test data shape: (10000, 1, 28, 28)\n"
          ]
        },
        {
          "output_type": "display_data",
          "data": {
            "text/plain": [
              "<Figure size 640x480 with 1 Axes>"
            ],
            "image/png": "[encoded data removed]"
          },
          "metadata": {}
        }
      ]
    },
    {
      "cell_type": "markdown",
      "source": [
        "#Dataset class\n",
        "#Dataloader class"
      ],
      "metadata": {
        "id": "baNKYCNi2tV5"
      }
    },
    {
      "cell_type": "code",
      "source": [
        "#Compute training data's mean and standard deviation\n",
        "#Divide by 255 to scale grayscale values (0-255) to 0-1 range for neural network input\n",
        "\n",
        "train_data = np.random.random((100, 100)) # Example data\n",
        "\n",
        "mean_val = np.mean(train_data) / 255 # Compute the mean of the pixel values\n",
        "std_val = np.std(train_data) / 255 # Compute the standard deviation of the pixel values\n",
        "\n",
        "print(f\"Mean: {mean_val}, Standard Deviation: {std_val}\")"
      ],
      "metadata": {
        "colab": {
          "base_uri": "https://localhost:8080/"
        },
        "id": "xrRmsKLG_a5U",
        "outputId": "25875566-1aa9-4744-8b35-ed5bf61ef3a6"
      },
      "execution_count": 6,
      "outputs": [
        {
          "output_type": "stream",
          "name": "stdout",
          "text": [
            "Mean: 0.001961744867166121, Standard Deviation: 0.0011254305365648407\n"
          ]
        }
      ]
    },
    {
      "cell_type": "markdown",
      "source": [
        "**img_transform preprocessing**"
      ],
      "metadata": {
        "id": "U5NjgpixEdFn"
      }
    },
    {
      "cell_type": "code",
      "source": [
        "# Transforms are common image transformations. They can be chained together using Compose.\n",
        "''' \n",
        "img_transform = transforms.Compose([\n",
        "    transforms.ToTensor(),\n",
        "    transforms.RandomAffine(degrees=5), ### hyperparameter \"degrees\" ###\n",
        "])\n",
        "'''\n",
        "img_transform = transforms.Compose([\n",
        "    transforms.ToTensor(),\n",
        "    transforms.RandomAffine(degrees=5), ### hyperparameter \"degrees\" ###\n",
        "    transforms.Normalize([mean_val], [std_val]) ### hyperparameters \"mean\" and \"std\" ###\n",
        "])\n",
        "'''\n",
        "img_transform = transforms.Compose([\n",
        "    transforms.ToTensor(),\n",
        "    transforms.RandomAffine(degrees=5), ### hyperparameter \"degrees\" ###\n",
        "    transforms.Normalize(0.5, 0.5) ### hyperparameters \"mean\" and \"std\" ###\n",
        "])\n",
        "'''"
      ],
      "metadata": {
        "id": "B5agcKMN2sgf",
        "colab": {
          "base_uri": "https://localhost:8080/",
          "height": 53
        },
        "outputId": "cd780704-4c52-4b09-8e66-9d4d22048ac9"
      },
      "execution_count": 7,
      "outputs": [
        {
          "output_type": "execute_result",
          "data": {
            "text/plain": [
              "' Doesnt work\\nimg_transform = transforms.Compose([\\n    transforms.ToTensor(),\\n    transforms.RandomAffine(degrees=5), ### hyperparameter \"degrees\" ###\\n    transforms.Normalize(0.5, 0.5) ### hyperparameters \"mean\" and \"std\" ###\\n])\\n'"
            ],
            "application/vnd.google.colaboratory.intrinsic+json": {
              "type": "string"
            }
          },
          "metadata": {},
          "execution_count": 7
        }
      ]
    },
    {
      "cell_type": "code",
      "source": [
        "class CustomDatasetTrain(Dataset):\n",
        "  def __init__(self, image_file, label_file, data_transform=None, idx = None): \n",
        "    self.image_data = pickle.load( open( image_file, 'rb' ), encoding='bytes') # load the image data                     \n",
        "    self.label_data = np.genfromtxt(label_file, delimiter=',', skip_header=1)[:,1:] # skip the first row\n",
        "    self.data_transform = data_transform\n",
        "    \n",
        "    if idx is not None:\n",
        "      self.label_data = self.label_data[idx] # select the idx-th row\n",
        "      self.image_data = self.image_data[idx] # select the idx-th row\n",
        "\n",
        "  def __len__(self):\n",
        "    return len(self.label_data) # return the number of samples\n",
        "\n",
        "  def __getitem__(self, idx):\n",
        "    image, label = self.image_data[idx], int(self.label_data[idx]) # get the idx-th sample\n",
        "\n",
        "    if self.data_transform is not None: # if there is a transform given, apply this transform to the image\n",
        "      image = image.reshape(28,28) # reshape the image to 28x28\n",
        "      image = Image.fromarray(image.astype('float'), mode='1') # convert the image to PIL image, mode='1' means the image is binary                  \n",
        "      image = self.data_transform(image) # apply the transform to the image\n",
        "\n",
        "    return image, label\n"
      ],
      "metadata": {
        "id": "w3Olr0ilea0G"
      },
      "execution_count": 8,
      "outputs": []
    },
    {
      "cell_type": "code",
      "source": [
        "class CustomDatasetTest(Dataset):\n",
        "    \n",
        "    def __init__(self, img_path, transform=None, indices=None):\n",
        "        self.images = pickle.load(open(img_path, 'rb'))\n",
        "\n",
        "        if indices is not None:\n",
        "            self.images = self.images[indices]\n",
        "\n",
        "        self.transform = transform\n",
        "\n",
        "    def __len__(self):\n",
        "        return len(self.images)\n",
        "\n",
        "    def __getitem__(self, index):\n",
        "        image = self.images[index]\n",
        "        image = Image.fromarray(image.astype('uint8'), mode='L')\n",
        "\n",
        "        if self.transform is not None:\n",
        "            image = self.transform(image)\n",
        "\n",
        "        return image\n"
      ],
      "metadata": {
        "id": "4298lRrtFsKw"
      },
      "execution_count": 9,
      "outputs": []
    },
    {
      "cell_type": "code",
      "source": [
        "## ---- Load data for entire training set ---- ##\n",
        "# Read image data and their label into a Dataset object #\n",
        "\n",
        "## Note:- Selecting approximately 1000 test data from the set of 60000 as well. \n",
        "\n",
        "training_dataset = CustomDatasetTrain('./Train.pkl', './Train_labels.csv', idx=None)\n",
        "\n",
        "# Load data using DataLoader\n",
        "batch_size = 32                                                             # Set batch size based on the size of the training or test data\n",
        "training_data = DataLoader(training_dataset, batch_size=batch_size, shuffle=True)  "
      ],
      "metadata": {
        "id": "8G_eQ9nJ1SFb"
      },
      "execution_count": 10,
      "outputs": []
    },
    {
      "cell_type": "code",
      "source": [
        "data = enumerate(training_data)\n",
        "idx, (inputs, targets) = next(data)\n",
        "print(inputs.shape)\n",
        "\n",
        "fig = plt.figure()\n",
        "for i in range(6):\n",
        "  plt.subplot(2, 3, i+1)\n",
        "  plt.tight_layout()\n",
        "  plt.imshow(inputs[i][0], cmap='gray', interpolation='none')\n",
        "  plt.title(\"Ground Truth: {}\".format(targets[i]))\n",
        "  plt.xticks([])\n",
        "  plt.yticks([])\n",
        "fig.show()\n"
      ],
      "metadata": {
        "colab": {
          "base_uri": "https://localhost:8080/",
          "height": 456
        },
        "id": "fV-3KUJ8i1ej",
        "outputId": "842f58e0-66b9-4826-d98a-72e4ca8b846c"
      },
      "execution_count": 11,
      "outputs": [
        {
          "output_type": "stream",
          "name": "stdout",
          "text": [
            "torch.Size([32, 1, 28, 28])\n"
          ]
        },
        {
          "output_type": "display_data",
          "data": {
            "text/plain": [
              "<Figure size 640x480 with 6 Axes>"
            ],
            "image/png": "[encoded data removed]"
          },
          "metadata": {}
        }
      ]
    },
    {
      "cell_type": "code",
      "source": [
        "# Read a batch of data and their labels and display them\n",
        "data_batch, target_labels = next(iter(training_data))\n",
        "image = np.squeeze(data_batch)\n",
        "plt.imshow(image[1].reshape(28, 28).cpu().numpy(), cmap='binary', vmin=0, vmax=1)"
      ],
      "metadata": {
        "colab": {
          "base_uri": "https://localhost:8080/",
          "height": 448
        },
        "id": "0yShITes8Qcj",
        "outputId": "9ce7c811-62b3-4feb-d956-f83b11b7013e"
      },
      "execution_count": 12,
      "outputs": [
        {
          "output_type": "execute_result",
          "data": {
            "text/plain": [
              "<matplotlib.image.AxesImage at 0x7f31b9461460>"
            ]
          },
          "metadata": {},
          "execution_count": 12
        },
        {
          "output_type": "display_data",
          "data": {
            "text/plain": [
              "<Figure size 640x480 with 1 Axes>"
            ],
            "image/png": "[encoded data removed]"
          },
          "metadata": {}
        }
      ]
    },
    {
      "cell_type": "code",
      "source": [
        "# Load test data\n",
        "test_file = 'Test.pkl'\n",
        "test_batch_size = 32\n",
        "\n",
        "# Load test data using pickle\n",
        "with open(test_file, 'rb') as file:\n",
        "    test_data = DataLoader(pickle.load(file, encoding='bytes'), batch_size=test_batch_size)\n"
      ],
      "metadata": {
        "id": "OWZNQ00yq3bT"
      },
      "execution_count": 13,
      "outputs": []
    },
    {
      "cell_type": "code",
      "source": [
        "# Shape when dataloader is used.\n",
        "print(data_batch.shape)\n",
        "print(target_labels.shape)"
      ],
      "metadata": {
        "colab": {
          "base_uri": "https://localhost:8080/"
        },
        "id": "GHLpEPH28hXZ",
        "outputId": "4fac52dd-5b7e-4e8e-cea9-344836092c6b"
      },
      "execution_count": 14,
      "outputs": [
        {
          "output_type": "stream",
          "name": "stdout",
          "text": [
            "torch.Size([32, 1, 28, 28])\n",
            "torch.Size([32])\n"
          ]
        }
      ]
    },
    {
      "cell_type": "markdown",
      "source": [
        "#ResNet - CNN"
      ],
      "metadata": {
        "id": "XP4TSKDH7vqw"
      }
    },
    {
      "cell_type": "code",
      "source": [
        "import torch.nn as nn\n",
        "import torch.optim as optim\n",
        "from torchvision.models.resnet import ResNet, BasicBlock, Bottleneck\n",
        "\n",
        "# ---- Modified ResNet 18 ----- #\n",
        "class ModifiedResNet(ResNet):\n",
        "    def __init__(self):\n",
        "        super(ModifiedResNet, self).__init__(BasicBlock, [2, 2, 2, 2], num_classes=10)\n",
        "        self.conv1 = nn.Conv2d(1, 64, kernel_size=7, stride=1, padding=3, bias=False)\n",
        "\n",
        "model_resnet = ModifiedResNet()\n",
        "\n",
        "adam_optimizer = optim.Adam(model_resnet.parameters(), lr=0.001)\n",
        "loss_criterion = nn.CrossEntropyLoss()\n"
      ],
      "metadata": {
        "id": "5pOkUL7W4qM0"
      },
      "execution_count": 15,
      "outputs": []
    },
    {
      "cell_type": "markdown",
      "source": [
        "#Training and Testing on ResNet"
      ],
      "metadata": {
        "id": "tGCIrIOw7xmq"
      }
    },
    {
      "cell_type": "code",
      "source": [
        "# Define dropout probability\n",
        "dropout_prob = 0.2\n",
        "\n",
        "# Clone ResNet model\n",
        "num_ft = model_resnet.fc.in_features\n",
        "\n",
        "# Replace fully connected layer with a new one with dropout\n",
        "new_fc = nn.Sequential(nn.Dropout(p=dropout_prob), nn.Linear(num_ft, 10))\n",
        "model_resnet.fc = new_fc\n",
        "\n",
        "# Move the model to GPU\n",
        "model_resnet.to('cuda')\n"
      ],
      "metadata": {
        "id": "RxEWCxgT75rW",
        "colab": {
          "base_uri": "https://localhost:8080/"
        },
        "outputId": "0f01d567-a716-4b08-f15f-071ae290f76f"
      },
      "execution_count": 16,
      "outputs": [
        {
          "output_type": "execute_result",
          "data": {
            "text/plain": [
              "ModifiedResNet(\n",
              "  (conv1): Conv2d(1, 64, kernel_size=(7, 7), stride=(1, 1), padding=(3, 3), bias=False)\n",
              "  (bn1): BatchNorm2d(64, eps=1e-05, momentum=0.1, affine=True, track_running_stats=True)\n",
              "  (relu): ReLU(inplace=True)\n",
              "  (maxpool): MaxPool2d(kernel_size=3, stride=2, padding=1, dilation=1, ceil_mode=False)\n",
              "  (layer1): Sequential(\n",
              "    (0): BasicBlock(\n",
              "      (conv1): Conv2d(64, 64, kernel_size=(3, 3), stride=(1, 1), padding=(1, 1), bias=False)\n",
              "      (bn1): BatchNorm2d(64, eps=1e-05, momentum=0.1, affine=True, track_running_stats=True)\n",
              "      (relu): ReLU(inplace=True)\n",
              "      (conv2): Conv2d(64, 64, kernel_size=(3, 3), stride=(1, 1), padding=(1, 1), bias=False)\n",
              "      (bn2): BatchNorm2d(64, eps=1e-05, momentum=0.1, affine=True, track_running_stats=True)\n",
              "    )\n",
              "    (1): BasicBlock(\n",
              "      (conv1): Conv2d(64, 64, kernel_size=(3, 3), stride=(1, 1), padding=(1, 1), bias=False)\n",
              "      (bn1): BatchNorm2d(64, eps=1e-05, momentum=0.1, affine=True, track_running_stats=True)\n",
              "      (relu): ReLU(inplace=True)\n",
              "      (conv2): Conv2d(64, 64, kernel_size=(3, 3), stride=(1, 1), padding=(1, 1), bias=False)\n",
              "      (bn2): BatchNorm2d(64, eps=1e-05, momentum=0.1, affine=True, track_running_stats=True)\n",
              "    )\n",
              "  )\n",
              "  (layer2): Sequential(\n",
              "    (0): BasicBlock(\n",
              "      (conv1): Conv2d(64, 128, kernel_size=(3, 3), stride=(2, 2), padding=(1, 1), bias=False)\n",
              "      (bn1): BatchNorm2d(128, eps=1e-05, momentum=0.1, affine=True, track_running_stats=True)\n",
              "      (relu): ReLU(inplace=True)\n",
              "      (conv2): Conv2d(128, 128, kernel_size=(3, 3), stride=(1, 1), padding=(1, 1), bias=False)\n",
              "      (bn2): BatchNorm2d(128, eps=1e-05, momentum=0.1, affine=True, track_running_stats=True)\n",
              "      (downsample): Sequential(\n",
              "        (0): Conv2d(64, 128, kernel_size=(1, 1), stride=(2, 2), bias=False)\n",
              "        (1): BatchNorm2d(128, eps=1e-05, momentum=0.1, affine=True, track_running_stats=True)\n",
              "      )\n",
              "    )\n",
              "    (1): BasicBlock(\n",
              "      (conv1): Conv2d(128, 128, kernel_size=(3, 3), stride=(1, 1), padding=(1, 1), bias=False)\n",
              "      (bn1): BatchNorm2d(128, eps=1e-05, momentum=0.1, affine=True, track_running_stats=True)\n",
              "      (relu): ReLU(inplace=True)\n",
              "      (conv2): Conv2d(128, 128, kernel_size=(3, 3), stride=(1, 1), padding=(1, 1), bias=False)\n",
              "      (bn2): BatchNorm2d(128, eps=1e-05, momentum=0.1, affine=True, track_running_stats=True)\n",
              "    )\n",
              "  )\n",
              "  (layer3): Sequential(\n",
              "    (0): BasicBlock(\n",
              "      (conv1): Conv2d(128, 256, kernel_size=(3, 3), stride=(2, 2), padding=(1, 1), bias=False)\n",
              "      (bn1): BatchNorm2d(256, eps=1e-05, momentum=0.1, affine=True, track_running_stats=True)\n",
              "      (relu): ReLU(inplace=True)\n",
              "      (conv2): Conv2d(256, 256, kernel_size=(3, 3), stride=(1, 1), padding=(1, 1), bias=False)\n",
              "      (bn2): BatchNorm2d(256, eps=1e-05, momentum=0.1, affine=True, track_running_stats=True)\n",
              "      (downsample): Sequential(\n",
              "        (0): Conv2d(128, 256, kernel_size=(1, 1), stride=(2, 2), bias=False)\n",
              "        (1): BatchNorm2d(256, eps=1e-05, momentum=0.1, affine=True, track_running_stats=True)\n",
              "      )\n",
              "    )\n",
              "    (1): BasicBlock(\n",
              "      (conv1): Conv2d(256, 256, kernel_size=(3, 3), stride=(1, 1), padding=(1, 1), bias=False)\n",
              "      (bn1): BatchNorm2d(256, eps=1e-05, momentum=0.1, affine=True, track_running_stats=True)\n",
              "      (relu): ReLU(inplace=True)\n",
              "      (conv2): Conv2d(256, 256, kernel_size=(3, 3), stride=(1, 1), padding=(1, 1), bias=False)\n",
              "      (bn2): BatchNorm2d(256, eps=1e-05, momentum=0.1, affine=True, track_running_stats=True)\n",
              "    )\n",
              "  )\n",
              "  (layer4): Sequential(\n",
              "    (0): BasicBlock(\n",
              "      (conv1): Conv2d(256, 512, kernel_size=(3, 3), stride=(2, 2), padding=(1, 1), bias=False)\n",
              "      (bn1): BatchNorm2d(512, eps=1e-05, momentum=0.1, affine=True, track_running_stats=True)\n",
              "      (relu): ReLU(inplace=True)\n",
              "      (conv2): Conv2d(512, 512, kernel_size=(3, 3), stride=(1, 1), padding=(1, 1), bias=False)\n",
              "      (bn2): BatchNorm2d(512, eps=1e-05, momentum=0.1, affine=True, track_running_stats=True)\n",
              "      (downsample): Sequential(\n",
              "        (0): Conv2d(256, 512, kernel_size=(1, 1), stride=(2, 2), bias=False)\n",
              "        (1): BatchNorm2d(512, eps=1e-05, momentum=0.1, affine=True, track_running_stats=True)\n",
              "      )\n",
              "    )\n",
              "    (1): BasicBlock(\n",
              "      (conv1): Conv2d(512, 512, kernel_size=(3, 3), stride=(1, 1), padding=(1, 1), bias=False)\n",
              "      (bn1): BatchNorm2d(512, eps=1e-05, momentum=0.1, affine=True, track_running_stats=True)\n",
              "      (relu): ReLU(inplace=True)\n",
              "      (conv2): Conv2d(512, 512, kernel_size=(3, 3), stride=(1, 1), padding=(1, 1), bias=False)\n",
              "      (bn2): BatchNorm2d(512, eps=1e-05, momentum=0.1, affine=True, track_running_stats=True)\n",
              "    )\n",
              "  )\n",
              "  (avgpool): AdaptiveAvgPool2d(output_size=(1, 1))\n",
              "  (fc): Sequential(\n",
              "    (0): Dropout(p=0.2, inplace=False)\n",
              "    (1): Linear(in_features=512, out_features=10, bias=True)\n",
              "  )\n",
              ")"
            ]
          },
          "metadata": {},
          "execution_count": 16
        }
      ]
    },
    {
      "cell_type": "markdown",
      "source": [
        "ResNet Model - Training & Validation"
      ],
      "metadata": {
        "id": "6j8K0Fn2-qFH"
      }
    },
    {
      "cell_type": "code",
      "source": [
        "\n",
        "# Load training data and labels\n",
        "train_data_source = CustomDatasetTrain('./Train.pkl', './Train_labels.csv', idx=None) # Load training data and labels\n",
        "\n",
        "# Define sizes of training and validation sets\n",
        "training_portion = int(0.8 * len(train_data_source)) # 80% of the data is used for training\n",
        "validation_portion = len(train_data_source) - training_portion # 20% of the data is used for validation\n",
        "\n",
        "# Split data into training and validation sets, using random_split\n",
        "train_subset, validation_subset = torch.utils.data.random_split(train_data_source, [training_portion, validation_portion])\n",
        "\n",
        "# Load data using DataLoader\n",
        "data_batch_size = 100\n",
        "train_loader = DataLoader(train_subset, batch_size=data_batch_size, shuffle=True) \n",
        "validation_loader = DataLoader(validation_subset, batch_size=data_batch_size, shuffle=True) \n",
        "\n",
        "## ----- Training Function for the ResNet ----- ##\n",
        "\n",
        "def resnet_training(epoch, train_loader):\n",
        "  model_resnet.train() # Set the model to training mode\n",
        "  correct_predictions = 0 # Initialize the number of correct predictions\n",
        "  total_predictions = 0 # Initialize the number of total predictions\n",
        "  for idx, (data, label) in enumerate(train_loader): # Iterate over the training data\n",
        "    data, label = data.cuda(), label.cuda() # Move the data and labels to the GPU\n",
        "    adam_optimizer.zero_grad() # Clear the gradients\n",
        "    model_output = model_resnet(data).cuda() # Forward pass\n",
        "    _, prediction = torch.max(model_output.data, 1) # Get the predictions\n",
        "\n",
        "    correct_predictions += (prediction == label).sum().item() # Update the number of correct predictions\n",
        "    loss = loss_criterion(model_output, label) # Calculate the loss           \n",
        "    total_predictions += label.size(0) # Update the number of total predictions\n",
        "    accuracy_pct = (correct_predictions / total_predictions) * 100.0 # Calculate the accuracy\n",
        "    progress_visual.set_description(f\"Loss : {loss.item():.3f}, Training Accuracy : {accuracy_pct:.3f}\") # Update the progress bar\n",
        "\n",
        "    loss.backward() # Backward pass\n",
        "    adam_optimizer.step() # Update the weights\n",
        "\n",
        "  print(f'Epoch : {epoch}; Training Accuracy: {accuracy_pct:.3f}') # Print the training accuracy\n",
        "\n",
        "## ----- Validation Function for the ResNet ----- ##\n",
        "\n",
        "def resnet_validatation(epoch, validation_loader): # Validation function\n",
        "  correct_predictions = 0 # Initialize the number of correct predictions\n",
        "  total_predictions = 0 # Initialize the number of total predictions\n",
        "  highest_accuracy = 0 # Initialize the highest accuracy\n",
        "  for idx, (data, label) in enumerate(validation_loader): # Iterate over the validation data\n",
        "    data, label = data.cuda(), label.cuda() # Move the data and labels to the GPU\n",
        "    model_output = model_resnet(data).cuda() # Forward pass\n",
        "    _, prediction = torch.max(model_output.data, 1) # Get the predictions\n",
        "    correct_predictions += (prediction == label).sum().item() # Update the number of correct predictions\n",
        "    total_predictions += label.size(0) # Update the number of total predictions\n",
        "    accuracy_pct = (correct_predictions / total_predictions) * 100.0 # Calculate the accuracy\n",
        "    progress_visual.set_description(f\"Validation Accuracy : {accuracy_pct:.3f}\") # Update the progress bar\n",
        "\n",
        "    if accuracy_pct > highest_accuracy: \n",
        "      highest_accuracy = accuracy_pct\n",
        "\n",
        "  print(f'Epoch : {epoch}; Validation Accuracy: {accuracy_pct:.3f}')\n",
        "  return highest_accuracy\n",
        "\n",
        "\n",
        "## ----- Running the epochs of ResNet ----- ##\n",
        "\n",
        "iteration_count = 5 # Set the number of iterations to run\n",
        "best_epoch = 0\n",
        "progress_visual = tqdm_notebook(iterable=range(iteration_count), position=0, leave=True)\n",
        "highest_accuracy = 0\n",
        "begin_time = time.time()\n",
        "\n",
        "for idx in progress_visual: # Iterate over the number of iterations\n",
        "  resnet_training(idx + 1, train_loader) # Run the training function\n",
        "  curr_val_acc = resnet_validatation(idx + 1, validation_loader) # Get the current validation accuracy\n",
        "  if curr_val_acc > highest_accuracy: # Check if the current validation accuracy is higher than the highest accuracy\n",
        "    highest_accuracy = curr_val_acc # Store the highest accuracy\n",
        "    best_epoch = idx # Store the epoch with the highest accuracy\n",
        "    torch.save(model_resnet.state_dict(), '/model.pth') # Save the model\n",
        "    torch.save(adam_optimizer.state_dict(), '/optimizer.pth') # Save the optimizer\n",
        "\n",
        "finish_time = time.time() # Get the time when the training is finished\n"
      ],
      "metadata": {
        "colab": {
          "base_uri": "https://localhost:8080/",
          "height": 226,
          "referenced_widgets": [
            "d6ea5cb87c584affb765a6b6f58ef8e0",
            "509262379c76445cad55c3a6438ad0d6",
            "d8f0ec85e3224e03aa0c71da9e5f2c24",
            "c3540e20c4834387a6e5b66fe8c21996",
            "d75bdf0e17f141749a0212670aea3e08",
            "885795bfa0294779aa2aebd3df1f4399",
            "fad3062dc7d04262b6bf0992d92bb40f",
            "2357b79651b446619cda565012741f90",
            "8f2c833c8673471485191b87565b7c26",
            "1c7e52f99d2e4b6f89a88a175fc8cbae",
            "7f898c1631304a03a9ac94f5428087e6"
          ]
        },
        "id": "UFdcBMRl53tQ",
        "outputId": "fcd48e90-504d-4424-b944-0a9e67065536"
      },
      "execution_count": 17,
      "outputs": [
        {
          "output_type": "display_data",
          "data": {
            "text/plain": [
              "  0%|          | 0/5 [00:00<?, ?it/s]"
            ],
            "application/vnd.jupyter.widget-view+json": {
              "version_major": 2,
              "version_minor": 0,
              "model_id": "d6ea5cb87c584affb765a6b6f58ef8e0"
            }
          },
          "metadata": {}
        },
        {
          "output_type": "stream",
          "name": "stdout",
          "text": [
            "Epoch : 1; Training Accuracy: 72.785\n",
            "Epoch : 1; Validation Accuracy: 86.208\n",
            "Epoch : 2; Training Accuracy: 89.385\n",
            "Epoch : 2; Validation Accuracy: 90.250\n",
            "Epoch : 3; Training Accuracy: 92.721\n",
            "Epoch : 3; Validation Accuracy: 91.758\n",
            "Epoch : 4; Training Accuracy: 94.833\n",
            "Epoch : 4; Validation Accuracy: 92.475\n",
            "Epoch : 5; Training Accuracy: 95.975\n",
            "Epoch : 5; Validation Accuracy: 93.542\n"
          ]
        }
      ]
    },
    {
      "cell_type": "markdown",
      "source": [
        "#Test and Save data"
      ],
      "metadata": {
        "id": "Mi7_xnYmFsLI"
      }
    },
    {
      "cell_type": "code",
      "source": [
        "test_loader_final = test_data # This is the test data loader\n",
        "predictions = []\n",
        "\n",
        "def make_prediction(test_data=test_data):\n",
        "    # Set the model to evaluation mode\n",
        "    model_resnet.eval()\n",
        "\n",
        "    test_loss = 0\n",
        "    correct_count = 0\n",
        "\n",
        "    with torch.no_grad():\n",
        "        for single_data in test_data: \n",
        "            # Transfer data to the device (CPU or GPU)\n",
        "            single_data = single_data.to(device)\n",
        "\n",
        "            model_output = model_resnet(single_data)\n",
        "            prediction = model_output.data.max(1, keepdim=True)[1]\n",
        "            predictions.append(prediction.tolist())\n",
        "\n",
        "    flattened_predictions = [item for sublist in predictions for item in sublist] # Flatten the list, since the predictions are in a list of lists\n",
        "    final_predictions = [item for sublist in flattened_predictions for item in sublist] # Flatten the list, since the predictions are in a list of lists\n",
        "    return final_predictions\n",
        "\n",
        "def save_csv(predicted_data, output_file_name): # Save the predictions to a csv file\n",
        "    formatted_data = {'id': np.arange(10000), 'class': predicted_data} # Create a dictionary with the data\n",
        "    df = pd.DataFrame(formatted_data, columns=['id', 'class']) # Create a pandas dataframe with the data\n",
        "    df.to_csv(output_file_name, index=False, header=True) # Save the dataframe to a csv file\n",
        "    print(\"Data saved successfully! Check file name submit.csv\") # Print a message to the user\n"
      ],
      "metadata": {
        "id": "al74ws_3_BJB"
      },
      "execution_count": 18,
      "outputs": []
    },
    {
      "cell_type": "code",
      "source": [
        "# Record the start time of the program, make predictions, and record the end time \n",
        "start_time = time.time()\n",
        "predictions_made = make_prediction(test_data=test_data) # Make predictions on the test set\n",
        "\n",
        "print(f\"Execution Time: {time.time() - start_time:.2f} seconds\") # Print the execution time\n",
        "\n",
        "save_csv(predictions_made, \"submit.csv\") # Save the predictions to a csv file"
      ],
      "metadata": {
        "colab": {
          "base_uri": "https://localhost:8080/"
        },
        "id": "pknBJ4uyF3yA",
        "outputId": "58235c02-8164-40ad-c6bd-63ada2da15f3"
      },
      "execution_count": 19,
      "outputs": [
        {
          "output_type": "stream",
          "name": "stdout",
          "text": [
            "Execution Time: 1.30 seconds\n",
            "Data saved successfully! Check file name submit.csv\n"
          ]
        }
      ]
    },
    {
      "cell_type": "markdown",
      "source": [
        "# **Other training and validation codes, including ResNet 18 loss graph, ResNet 34, leakyReLU (with SGD optimizer) layers and VGG 16**"
      ],
      "metadata": {
        "id": "II51ug1BtnDa"
      }
    },
    {
      "cell_type": "markdown",
      "source": [
        "**ResNet 18 loss graph:**"
      ],
      "metadata": {
        "id": "PRMvjCEAQA4l"
      }
    },
    {
      "cell_type": "code",
      "source": [
        "'''\n",
        "#showing loss in graph fo report \n",
        "\n",
        "\n",
        "sequence = list(range(0, 10000, 1)) # Create a sequence of numbers from 0 to 10000\n",
        "batch_size = 32 # Set the batch size\n",
        "grouped_sequence = [sequence[i:i + batch_size] for i in range(0, len(sequence), batch_size)] # Group the sequence into batches of size 32\n",
        "\n",
        "test_idx = [i * len(training_data.dataset) for i in range(3)] # Create a list of indices to sample from the test set\n",
        "peak_accuracy = 0 # Initialize peak accuracy to zero\n",
        "average_accuracy = 0 # Initialize average accuracy to zero\n",
        "\n",
        "num_iterations = 5 # Setting the number of epochs to run\n",
        "progress_indicator = tqdm_notebook(iterable=range(num_iterations), position=0, leave=True) # Create a progress indicator\n",
        "\n",
        "init_time = time.time() # Record the time at the start of training\n",
        "\n",
        "loss_history = [] # Create an empty list to store training losses after each epoch\n",
        "\n",
        "for current_epoch in progress_indicator: # Loop over the number of epochs\n",
        "  model_resnet.train() # Set the model to training mode\n",
        "  correct_predictions = 0 # Initialize correct predictions to zero\n",
        "  total_predictions = 0 # Initialize total predictions to zero\n",
        "  epoch_losses = 0 # Initialize epoch loss to zero \n",
        "  for batch_idx, (data_points, labels) in enumerate(training_data): # Loop over the training data\n",
        "    data_points, labels = data_points.cuda(), labels.cuda() # Move data to GPU\n",
        "    adam_optimizer.zero_grad() # Clear the gradients\n",
        "    model_output = model_resnet(data_points).cuda() # Forward pass\n",
        "    _, predicted_labels = torch.max(model_output, 1) # Get the predicted labels\n",
        "    correct_predictions += (predicted_labels == labels).sum().item() # Update the number of correct predictions\n",
        "    batch_loss = loss_criterion(model_output, labels) # Compute the loss\n",
        "    total_predictions += labels.size(0) # Update the total number of predictions\n",
        "    accuracy_pct = (correct_predictions / total_predictions) * 100.0 # Compute the accuracy\n",
        "    progress_indicator.set_description(f\"Loss : {batch_loss.item():.3f}, Main Data Accuracy : {accuracy_pct:.3f}\") # Update the progress indicator\n",
        "    epoch_losses += batch_loss.item() # Add batch loss to epoch loss \n",
        "    batch_loss.backward() # Backpropagate the loss\n",
        "    adam_optimizer.step() # Update the model parameters\n",
        "\n",
        "  loss_history.append(epoch_losses / len(training_data))  # Save average training loss after each epoch\n",
        "\n",
        "  print(f'Epoch : {current_epoch + 1} ; Training Loss on main data: {epoch_losses / len(training_data):.3f}') # Print the training loss after each epoch\n",
        "\n",
        "\n",
        "plt.plot(range(1, num_iterations + 1), loss_history) # Plot the training loss vs epoch\n",
        "plt.xlabel('Epoch')\n",
        "plt.ylabel('Training Loss')\n",
        "plt.title('Training Loss vs Epoch')\n",
        "plt.show()\n",
        "'''"
      ],
      "metadata": {
        "colab": {
          "base_uri": "https://localhost:8080/",
          "height": 106
        },
        "id": "PGersSmeP7Sk",
        "outputId": "7897c5b9-6501-4e47-bb88-9f8e35c42316"
      },
      "execution_count": 20,
      "outputs": [
        {
          "output_type": "execute_result",
          "data": {
            "text/plain": [
              "'\\n#showing loss in graph fo report \\n\\n\\nsequence = list(range(0, 10000, 1)) # Create a sequence of numbers from 0 to 10000\\nbatch_size = 32 # Set the batch size\\ngrouped_sequence = [sequence[i:i + batch_size] for i in range(0, len(sequence), batch_size)] # Group the sequence into batches of size 32\\n\\ntest_idx = [i * len(training_data.dataset) for i in range(3)] # Create a list of indices to sample from the test set\\npeak_accuracy = 0 # Initialize peak accuracy to zero\\naverage_accuracy = 0 # Initialize average accuracy to zero\\n\\nnum_iterations = 5 # Setting the number of epochs to run\\nprogress_indicator = tqdm_notebook(iterable=range(num_iterations), position=0, leave=True) # Create a progress indicator\\n\\ninit_time = time.time() # Record the time at the start of training\\n\\nloss_history = [] # Create an empty list to store training losses after each epoch\\n\\nfor current_epoch in progress_indicator: # Loop over the number of epochs\\n  model_resnet.train() # Set the model to training mode\\n  correct_predictions = 0 # Initialize correct predictions to zero\\n  total_predictions = 0 # Initialize total predictions to zero\\n  epoch_losses = 0 # Initialize epoch loss to zero \\n  for batch_idx, (data_points, labels) in enumerate(training_data): # Loop over the training data\\n    data_points, labels = data_points.cuda(), labels.cuda() # Move data to GPU\\n    adam_optimizer.zero_grad() # Clear the gradients\\n    model_output = model_resnet(data_points).cuda() # Forward pass\\n    _, predicted_labels = torch.max(model_output, 1) # Get the predicted labels\\n    correct_predictions += (predicted_labels == labels).sum().item() # Update the number of correct predictions\\n    batch_loss = loss_criterion(model_output, labels) # Compute the loss\\n    total_predictions += labels.size(0) # Update the total number of predictions\\n    accuracy_pct = (correct_predictions / total_predictions) * 100.0 # Compute the accuracy\\n    progress_indicator.set_description(f\"Loss : {batch_loss.item():.3f}, Main Data Accuracy : {accuracy_pct:.3f}\") # Update the progress indicator\\n    epoch_losses += batch_loss.item() # Add batch loss to epoch loss \\n    batch_loss.backward() # Backpropagate the loss\\n    adam_optimizer.step() # Update the model parameters\\n\\n  loss_history.append(epoch_losses / len(training_data))  # Save average training loss after each epoch\\n\\n  print(f\\'Epoch : {current_epoch + 1} ; Training Loss on main data: {epoch_losses / len(training_data):.3f}\\') # Print the training loss after each epoch\\n\\n\\nplt.plot(range(1, num_iterations + 1), loss_history) # Plot the training loss vs epoch\\nplt.xlabel(\\'Epoch\\')\\nplt.ylabel(\\'Training Loss\\')\\nplt.title(\\'Training Loss vs Epoch\\')\\nplt.show()\\n'"
            ],
            "application/vnd.google.colaboratory.intrinsic+json": {
              "type": "string"
            }
          },
          "metadata": {},
          "execution_count": 20
        }
      ]
    },
    {
      "cell_type": "markdown",
      "source": [
        "**ResNet 34 CNN model**"
      ],
      "metadata": {
        "id": "JQvdB7BAQLnH"
      }
    },
    {
      "cell_type": "code",
      "source": [
        "'''\n",
        "class CustomResNet34(ResNet):\n",
        "  def __init__(self):\n",
        "    super(CustomResNet, self).init(BasicBlock, [3, 4, 6, 3], num_classes=10)\n",
        "    self.initial_conv = nn.Conv2d(1, 64, kernel_size=7, stride=1, padding=3, bias=False)\n",
        "'''"
      ],
      "metadata": {
        "colab": {
          "base_uri": "https://localhost:8080/",
          "height": 53
        },
        "id": "tFCwWfbdQNsP",
        "outputId": "0bd15160-fb28-49d8-d459-40c5b47de274"
      },
      "execution_count": 21,
      "outputs": [
        {
          "output_type": "execute_result",
          "data": {
            "text/plain": [
              "'\\nclass CustomResNet34(ResNet):\\n  def __init__(self):\\n    super(CustomResNet, self).init(BasicBlock, [3, 4, 6, 3], num_classes=10)\\n    self.initial_conv = nn.Conv2d(1, 64, kernel_size=7, stride=1, padding=3, bias=False)\\n'"
            ],
            "application/vnd.google.colaboratory.intrinsic+json": {
              "type": "string"
            }
          },
          "metadata": {},
          "execution_count": 21
        }
      ]
    },
    {
      "cell_type": "markdown",
      "source": [
        "**LeakyReLU & SGD optimizer**"
      ],
      "metadata": {
        "id": "R7I6mOIidj5n"
      }
    },
    {
      "cell_type": "code",
      "source": [
        "''' ignore to try leakyRelu\n",
        "# ---- Modified ResNet 18 ----- #\n",
        "class ModifiedResNet(ResNet):\n",
        "    def __init__(self):\n",
        "        super(ModifiedResNet, self).__init__(BasicBlock, [2, 2, 2, 2], num_classes=10)\n",
        "        self.conv1 = nn.Conv2d(1, 64, kernel_size=7, stride=1, padding=3, bias=False)\n",
        "\n",
        "model_resnet = ModifiedResNet()\n",
        "\n",
        "adam_optimizer = optim.Adam(model_resnet.parameters(), lr=0.001)\n",
        "loss_criterion = nn.CrossEntropyLoss()\n",
        "'''\n",
        "''' Ignored for leakyRelu\n",
        "# Define dropout probability\n",
        "dropout_prob = 0.2\n",
        "\n",
        "# Clone ResNet model\n",
        "num_ft = model_resnet.fc.in_features\n",
        "\n",
        "# Replace fully connected layer with a new one with dropout\n",
        "new_fc = nn.Sequential(nn.Dropout(p=dropout_prob), nn.Linear(num_ft, 10))\n",
        "model_resnet.fc = new_fc\n",
        "\n",
        "# Move the model to GPU\n",
        "model_resnet.to('cuda')\n",
        "'''"
      ],
      "metadata": {
        "colab": {
          "base_uri": "https://localhost:8080/",
          "height": 53
        },
        "id": "Vhg9zpqQdmNN",
        "outputId": "977ad4ed-d6f9-4aba-aa8c-a0eb04e11638"
      },
      "execution_count": 22,
      "outputs": [
        {
          "output_type": "execute_result",
          "data": {
            "text/plain": [
              "\" Ignored for leakyRelu\\n# Define dropout probability\\ndropout_prob = 0.2\\n\\n# Clone ResNet model\\nnum_ft = model_resnet.fc.in_features\\n\\n# Replace fully connected layer with a new one with dropout\\nnew_fc = nn.Sequential(nn.Dropout(p=dropout_prob), nn.Linear(num_ft, 10))\\nmodel_resnet.fc = new_fc\\n\\n# Move the model to GPU\\nmodel_resnet.to('cuda')\\n\""
            ],
            "application/vnd.google.colaboratory.intrinsic+json": {
              "type": "string"
            }
          },
          "metadata": {},
          "execution_count": 22
        }
      ]
    },
    {
      "cell_type": "code",
      "source": [
        "''' Leaky ReLU\n",
        "from torch.nn import LeakyReLU\n",
        "class LeakyBasicBlock(BasicBlock):\n",
        "    def __init__(self, *args, **kwargs):\n",
        "        super(LeakyBasicBlock, self).__init__(*args, **kwargs)\n",
        "        self.relu = LeakyReLU(negative_slope=0.01, inplace=True)\n",
        "\n",
        "# ---- LeakyRELU ----- #\n",
        "class MFResNetLeaky(ResNet):\n",
        "    def __init__(self):\n",
        "        super(MFResNetLeaky, self).__init__(LeakyBasicBlock, [2, 2, 2, 2], num_classes=10) # Based on ResNet18\n",
        "        self.conv1 = nn.Conv2d(1, 64, kernel_size=7, stride=1, padding=3, bias=False)\n",
        "\n",
        "model_resnet = MFResNetLeaky()\n",
        "\n",
        "#Create separate optimizers and criteria for Resnet\n",
        "adam_optimizer = optim.Adam(model_resnet.parameters(), lr=0.001) #adam optimizer\n",
        "#SGD_optimizer = optim.SGD(model_resnet.parameters(), lr=0.01, momentum=0.9) #SGD optimizer\n",
        "loss_criterion = nn.CrossEntropyLoss()\n",
        "\n",
        "num_ft = model_resnet.fc.in_features\n",
        "model_resnet.fc = nn.Sequential(nn.Dropout(p=0.25), nn.Linear(num_ft, 10))\n",
        "model_resnet = model_resnet.to('cuda')\n",
        "'''"
      ],
      "metadata": {
        "colab": {
          "base_uri": "https://localhost:8080/",
          "height": 106
        },
        "id": "hIgpCsQUeX1_",
        "outputId": "0ae1b62c-80c7-4581-d112-3d58742a4e3f"
      },
      "execution_count": 23,
      "outputs": [
        {
          "output_type": "execute_result",
          "data": {
            "text/plain": [
              "\" Leaky ReLU\\nfrom torch.nn import LeakyReLU\\nclass LeakyBasicBlock(BasicBlock):\\n    def __init__(self, *args, **kwargs):\\n        super(LeakyBasicBlock, self).__init__(*args, **kwargs)\\n        self.relu = LeakyReLU(negative_slope=0.01, inplace=True)\\n\\n# ---- LeakyRELU ----- #\\nclass MFResNetLeaky(ResNet):\\n    def __init__(self):\\n        super(MFResNetLeaky, self).__init__(LeakyBasicBlock, [2, 2, 2, 2], num_classes=10) # Based on ResNet18\\n        self.conv1 = nn.Conv2d(1, 64, kernel_size=7, stride=1, padding=3, bias=False)\\n\\nmodel_resnet = MFResNetLeaky()\\n\\n#Create separate optimizers and criteria for Resnet\\nadam_optimizer = optim.Adam(model_resnet.parameters(), lr=0.001) #adam optimizer\\n#SGD_optimizer = optim.SGD(model_resnet.parameters(), lr=0.01, momentum=0.9) #SGD optimizer\\nloss_criterion = nn.CrossEntropyLoss()\\n\\nnum_ft = model_resnet.fc.in_features\\nmodel_resnet.fc = nn.Sequential(nn.Dropout(p=0.25), nn.Linear(num_ft, 10))\\nmodel_resnet = model_resnet.to('cuda')\\n\""
            ],
            "application/vnd.google.colaboratory.intrinsic+json": {
              "type": "string"
            }
          },
          "metadata": {},
          "execution_count": 23
        }
      ]
    },
    {
      "cell_type": "markdown",
      "source": [
        "**VGG 16**"
      ],
      "metadata": {
        "id": "RUDBExRkRANs"
      }
    },
    {
      "cell_type": "markdown",
      "source": [
        "VGG 16 CNN model"
      ],
      "metadata": {
        "id": "Q-15ce2HTT6V"
      }
    },
    {
      "cell_type": "code",
      "source": [
        "'''\n",
        "class ModifiedVGG16(VGG):\n",
        "    def __init__(self, num_classes=10):\n",
        "        features = vgg16(pretrained=False).features\n",
        "\n",
        "        # Remove the first MaxPool2d layer and the last three Conv2d layers\n",
        "        features = nn.Sequential(*list(features.children())[:-10])\n",
        "\n",
        "        super(ModifiedVGG16, self).__init__(features)\n",
        "        self.classifier = nn.Sequential(\n",
        "            nn.Linear(512 * 7 * 7, 4096),\n",
        "            nn.ReLU(True),\n",
        "            nn.Dropout(),\n",
        "            nn.Linear(4096, 4096),\n",
        "            nn.ReLU(True),\n",
        "            nn.Dropout(),\n",
        "            nn.Linear(4096, num_classes),\n",
        "        )\n",
        "        self.features[0] = nn.Conv2d(1, 64, kernel_size=3, stride=1, padding=1)\n",
        "\n",
        "\n",
        "vgg_model = ModifiedVGG16().cuda()\n",
        "\n",
        "# Create separate optimizers and criteria for ModifiedVGG16\n",
        "optimizer_vgg = optim.Adam(vgg_model.parameters(), lr=0.001)\n",
        "criterion_vgg = nn.CrossEntropyLoss()\n",
        "'''"
      ],
      "metadata": {
        "colab": {
          "base_uri": "https://localhost:8080/",
          "height": 106
        },
        "id": "97qlCnrFRBW0",
        "outputId": "244ba4e7-261a-4e75-dd8a-4b2117d076f3"
      },
      "execution_count": 24,
      "outputs": [
        {
          "output_type": "execute_result",
          "data": {
            "text/plain": [
              "'\\nclass ModifiedVGG16(VGG):\\n    def __init__(self, num_classes=10):\\n        features = vgg16(pretrained=False).features\\n\\n        # Remove the first MaxPool2d layer and the last three Conv2d layers\\n        features = nn.Sequential(*list(features.children())[:-10])\\n\\n        super(ModifiedVGG16, self).__init__(features)\\n        self.classifier = nn.Sequential(\\n            nn.Linear(512 * 7 * 7, 4096),\\n            nn.ReLU(True),\\n            nn.Dropout(),\\n            nn.Linear(4096, 4096),\\n            nn.ReLU(True),\\n            nn.Dropout(),\\n            nn.Linear(4096, num_classes),\\n        )\\n        self.features[0] = nn.Conv2d(1, 64, kernel_size=3, stride=1, padding=1)\\n\\n\\nvgg_model = ModifiedVGG16().cuda()\\n\\n# Create separate optimizers and criteria for ModifiedVGG16\\noptimizer_vgg = optim.Adam(vgg_model.parameters(), lr=0.001)\\ncriterion_vgg = nn.CrossEntropyLoss()\\n'"
            ],
            "application/vnd.google.colaboratory.intrinsic+json": {
              "type": "string"
            }
          },
          "metadata": {},
          "execution_count": 24
        }
      ]
    },
    {
      "cell_type": "markdown",
      "source": [
        "VGG 16 optimizer & loss criterion"
      ],
      "metadata": {
        "id": "YElD5fIPUC1Y"
      }
    },
    {
      "cell_type": "code",
      "source": [
        "'''\n",
        "optimizer_vgg_adam = optim.Adam(vgg_model.parameters(), lr=0.001)\n",
        "\n",
        "loss_criterion_vgg = nn.CrossEntropyLoss()\n",
        "'''"
      ],
      "metadata": {
        "colab": {
          "base_uri": "https://localhost:8080/",
          "height": 35
        },
        "id": "CmR0rp5tUJIU",
        "outputId": "97e53f45-398e-4192-d533-0b34c136cc70"
      },
      "execution_count": 25,
      "outputs": [
        {
          "output_type": "execute_result",
          "data": {
            "text/plain": [
              "'\\noptimizer_vgg_adam = optim.Adam(vgg_model.parameters(), lr=0.001)\\n\\nloss_criterion_vgg = nn.CrossEntropyLoss()\\n'"
            ],
            "application/vnd.google.colaboratory.intrinsic+json": {
              "type": "string"
            }
          },
          "metadata": {},
          "execution_count": 25
        }
      ]
    },
    {
      "cell_type": "markdown",
      "source": [
        "Training of VGG 16 parallel to ResNet 18"
      ],
      "metadata": {
        "id": "yQzYIHEjUduM"
      }
    },
    {
      "cell_type": "code",
      "source": [
        "'''\n",
        "lst_unique = list(range(0, 10000, 1))\n",
        "batch_size = 1000\n",
        "lst_splits = [lst_unique[i:i + batch_size] for i in range(0, len(lst_unique), batch_size)]\n",
        "\n",
        "test_counts = [i*len(training_data.dataset) for i in range(3)]\n",
        "best_accuracy = 0\n",
        "average_accuracy = 0\n",
        "\n",
        "num_epochs = 5\n",
        "\n",
        "progress_bar_resnet18 = tqdm_notebook(iterable=range(num_epochs), position=0, leave=True, desc=\"ResNet 18 Progress\")\n",
        "progress_bar_vgg16 = tqdm_notebook(iterable=range(num_epochs), position=0, leave=True, desc=\"VGG 16 Progress\")\n",
        "\n",
        "start_time = time.time()\n",
        "\n",
        "lst_training_losses_resnet18 = [] # Create an empty list to store training losses after each epoch for ResNet 18\n",
        "lst_training_losses_vgg16 = [] # Create an empty list to store training losses after each epoch for vgg16\n",
        "\n",
        "for epoch in range(num_epochs):\n",
        "\n",
        "  model_resnet.train()\n",
        "  correct1 = 0\n",
        "  total1 = 0\n",
        "  correct2 = 0\n",
        "  total2 = 0\n",
        "  epoch_loss_1 = 0\n",
        "\n",
        "  for batch_idx, (data, target) in enumerate(training_data):\n",
        "\n",
        "    data, target = data.cuda(), target.cuda()\n",
        "    adam_optimizer.zero_grad()\n",
        "    output1 = model_resnet(data).cuda()\n",
        "    _, predicted = torch.max(output1, 1)\n",
        "    correct1 += (predicted == target).sum().item()\n",
        "    loss1 = loss_criterion(output1, target)             \n",
        "    total1 += target.size(0)\n",
        "    acc1 = (correct1 / total1) * 100.0\n",
        "    progress_bar_resnet18.set_description(f\"Loss Model 1: {loss1.item():.3f}, Main Data Accuracy Model 1: {acc1:.3f}\")\n",
        "    progress_bar_resnet18.update()\n",
        "    loss1.backward()\n",
        "    adam_optimizer.step()\n",
        "\n",
        "    lst_training_losses_resnet18.append(epoch_loss_1/len(training_data))    # Save training accuracy after each epoch\n",
        "\n",
        "\n",
        "  # Train VGG16\n",
        "  vgg_model.train()\n",
        "  correct_2 = 0\n",
        "  total_2 = 0\n",
        "  epoch_loss_2 = 0\n",
        "  for batch_idx, (data, target) in enumerate(training_data):\n",
        "      data, target = data.cuda(), target.cuda()\n",
        "      optimizer_vgg_adam.zero_grad()\n",
        "      output_2 = vgg_model(data).cuda()\n",
        "      _, predicted_2 = torch.max(output_2, 1)\n",
        "      correct_2 += (predicted_2 == target).sum().item()\n",
        "      loss_2 = loss_criterion(output_2, target)\n",
        "      total_2 += target.size(0)\n",
        "      acc_2 = (correct_2 / total_2) * 100.0\n",
        "      progress_bar_vgg16.set_description(f\"Loss Model 2: {loss_2.item():.3f}, Main Data Accuracy Model 2: {acc_2:.3f}\")\n",
        "      progress_bar_vgg16.update()\n",
        "      loss_2.backward()\n",
        "      optimizer_vgg_adam.step()\n",
        "\n",
        "      lst_training_losses_vgg16.append(epoch_loss_2/len(training_data))    # Save training accuracy after each epoch\n",
        "\n",
        "\n",
        "  torch.save(model_resnet.state_dict(), '/trained_model_1.pth')\n",
        "  torch.save(adam_optimizer.state_dict(), '/trained_optimizer_1.pth')\n",
        "  torch.save(vgg_model.state_dict(), '/trained_model_vgg16.pth')\n",
        "  torch.save(optimizer_vgg.state_dict(), '/trained_optimizer_vgg16.pth')\n",
        "\n",
        "# Close progress bars after the loop\n",
        "progress_bar_resnet18.close()\n",
        "progress_bar_vgg16.close()\n",
        "'''"
      ],
      "metadata": {
        "colab": {
          "base_uri": "https://localhost:8080/",
          "height": 106
        },
        "id": "_Top_VdgUmqF",
        "outputId": "a341e3fb-0267-4d73-a116-c90fa96814ca"
      },
      "execution_count": 26,
      "outputs": [
        {
          "output_type": "execute_result",
          "data": {
            "text/plain": [
              "'\\nlst_unique = list(range(0, 10000, 1))\\nbatch_size = 1000\\nlst_splits = [lst_unique[i:i + batch_size] for i in range(0, len(lst_unique), batch_size)]\\n\\ntest_counts = [i*len(training_data.dataset) for i in range(3)]\\nbest_accuracy = 0\\naverage_accuracy = 0\\n\\nnum_epochs = 5\\n\\nprogress_bar_resnet18 = tqdm_notebook(iterable=range(num_epochs), position=0, leave=True, desc=\"ResNet 18 Progress\")\\nprogress_bar_vgg16 = tqdm_notebook(iterable=range(num_epochs), position=0, leave=True, desc=\"VGG 16 Progress\")\\n\\nstart_time = time.time()\\n\\nlst_training_losses_resnet18 = [] # Create an empty list to store training losses after each epoch for ResNet 18\\nlst_training_losses_vgg16 = [] # Create an empty list to store training losses after each epoch for vgg16\\n\\nfor epoch in range(num_epochs):\\n\\n  model_resnet.train()\\n  correct1 = 0\\n  total1 = 0\\n  correct2 = 0\\n  total2 = 0\\n  epoch_loss_1 = 0\\n\\n  for batch_idx, (data, target) in enumerate(training_data):\\n\\n    data, target = data.cuda(), target.cuda()\\n    adam_optimizer.zero_grad()\\n    output1 = model_resnet(data).cuda()\\n    _, predicted = torch.max(output1, 1)\\n    correct1 += (predicted == target).sum().item()\\n    loss1 = loss_criterion(output1, target)             \\n    total1 += target.size(0)\\n    acc1 = (correct1 / total1) * 100.0\\n    progress_bar_resnet18.set_description(f\"Loss Model 1: {loss1.item():.3f}, Main Data Accuracy Model 1: {acc1:.3f}\")\\n    progress_bar_resnet18.update()\\n    loss1.backward()\\n    adam_optimizer.step()\\n\\n    lst_training_losses_resnet18.append(epoch_loss_1/len(training_data))    # Save training accuracy after each epoch\\n\\n\\n  # Train VGG16\\n  vgg_model.train()\\n  correct_2 = 0\\n  total_2 = 0\\n  epoch_loss_2 = 0\\n  for batch_idx, (data, target) in enumerate(training_data):\\n      data, target = data.cuda(), target.cuda()\\n      optimizer_vgg_adam.zero_grad()\\n      output_2 = vgg_model(data).cuda()\\n      _, predicted_2 = torch.max(output_2, 1)\\n      correct_2 += (predicted_2 == target).sum().item()\\n      loss_2 = loss_criterion(output_2, target)\\n      total_2 += target.size(0)\\n      acc_2 = (correct_2 / total_2) * 100.0\\n      progress_bar_vgg16.set_description(f\"Loss Model 2: {loss_2.item():.3f}, Main Data Accuracy Model 2: {acc_2:.3f}\")\\n      progress_bar_vgg16.update()\\n      loss_2.backward()\\n      optimizer_vgg_adam.step()\\n\\n      lst_training_losses_vgg16.append(epoch_loss_2/len(training_data))    # Save training accuracy after each epoch\\n\\n\\n  torch.save(model_resnet.state_dict(), \\'/trained_model_1.pth\\')\\n  torch.save(adam_optimizer.state_dict(), \\'/trained_optimizer_1.pth\\')\\n  torch.save(vgg_model.state_dict(), \\'/trained_model_vgg16.pth\\')\\n  torch.save(optimizer_vgg.state_dict(), \\'/trained_optimizer_vgg16.pth\\')\\n\\n# Close progress bars after the loop\\nprogress_bar_resnet18.close()\\nprogress_bar_vgg16.close()\\n'"
            ],
            "application/vnd.google.colaboratory.intrinsic+json": {
              "type": "string"
            }
          },
          "metadata": {},
          "execution_count": 26
        }
      ]
    },
    {
      "cell_type": "markdown",
      "source": [
        "VGG 16 Test Prediction (without the store_csv function)"
      ],
      "metadata": {
        "id": "uL43EIDbVPIN"
      }
    },
    {
      "cell_type": "code",
      "source": [
        "'''\n",
        "test_loader_final = test_data # This is the test data loader\n",
        "y_pred_vgg = []\n",
        "\n",
        "def pred_vgg16(testdata=test_data):\n",
        "    # evaluation mode\n",
        "    vgg_model.eval()\n",
        "\n",
        "    test_loss = 0\n",
        "    correct_count = 0\n",
        "    y_pred_vgg = []\n",
        "    \n",
        "    with torch.no_grad():\n",
        "        for single_data in testdata:\n",
        "          # transfer data to cuda if available\n",
        "          data = data.to(device)\n",
        "\n",
        "          model_output = vgg_model(single_data)\n",
        "          prediction = model_output.data.max(1, keepdim=True)[1]\n",
        "          y_pred_vgg.append(prediction.tolist())\n",
        "\n",
        "    flattened_predictions = [item for sublist in y_pred_vgg for item in sublist] # Flatten the list, since the predictions are in a list of lists\n",
        "    final_predictions = [item for sublist in flattened_predictions for item in sublist] # Flatten the list, since the predictions are in a list of lists\n",
        "    return final_predictions\n",
        "\n",
        "startall = time.time()\n",
        "y_pred_vgg16 = pred_vgg16(testdata=test_data)\n",
        "'''"
      ],
      "metadata": {
        "colab": {
          "base_uri": "https://localhost:8080/",
          "height": 106
        },
        "id": "4d3BTyl4VS4h",
        "outputId": "793ffe66-ec57-4bef-cf18-f8d94eb11462"
      },
      "execution_count": 27,
      "outputs": [
        {
          "output_type": "execute_result",
          "data": {
            "text/plain": [
              "'\\ntest_loader_final = test_data # This is the test data loader\\ny_pred_vgg = []\\n\\ndef pred_vgg16(testdata=test_data):\\n    # evaluation mode\\n    vgg_model.eval()\\n\\n    test_loss = 0\\n    correct_count = 0\\n    y_pred_vgg = []\\n    \\n    with torch.no_grad():\\n        for single_data in testdata:\\n          # transfer data to cuda if available\\n          data = data.to(device)\\n\\n          model_output = vgg_model(single_data)\\n          prediction = model_output.data.max(1, keepdim=True)[1]\\n          y_pred_vgg.append(prediction.tolist())\\n\\n    flattened_predictions = [item for sublist in y_pred_vgg for item in sublist] # Flatten the list, since the predictions are in a list of lists\\n    final_predictions = [item for sublist in flattened_predictions for item in sublist] # Flatten the list, since the predictions are in a list of lists\\n    return final_predictions\\n\\nstartall = time.time()\\ny_pred_vgg16 = pred_vgg16(testdata=test_data)\\n'"
            ],
            "application/vnd.google.colaboratory.intrinsic+json": {
              "type": "string"
            }
          },
          "metadata": {},
          "execution_count": 27
        }
      ]
    }
  ]
}